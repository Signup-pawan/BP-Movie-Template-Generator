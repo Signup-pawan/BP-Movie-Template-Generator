#@title Install additional packages and mount Google Drive { vertical-output: true }
from IPython.display import clear_output
import os
os.system('apt install mediainfo')
os.system('pip install git+git://github.com/AWConant/jikanpy.git')
clear_output(wait=True)
print('Installation finished. Now mount your Google Drive.')
from google.colab import drive
drive.mount('/content/drive')
clear_output(wait=True)
print('Drive is mounted. Setup is completed.')
